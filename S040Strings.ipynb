{
 "cells": [
  {
   "cell_type": "code",
   "execution_count": 3,
   "metadata": {},
   "outputs": [
    {
     "name": "stdout",
     "output_type": "stream",
     "text": [
      "abcdef ABCDEF 1524248928128 1524248926672\n"
     ]
    }
   ],
   "source": [
    "s = 'abcdef'\n",
    "s1 = s.upper()\n",
    "print(s, s1, id(s), id(s1))"
   ]
  },
  {
   "cell_type": "code",
   "execution_count": 4,
   "metadata": {},
   "outputs": [
    {
     "name": "stdout",
     "output_type": "stream",
     "text": [
      "1524248927960\n",
      "1524248928128 AB12AB\n"
     ]
    }
   ],
   "source": [
    "s = 'ab12AB'\n",
    "print(id(s))\n",
    "s = s.upper()\n",
    "print(id(s),s)"
   ]
  },
  {
   "cell_type": "code",
   "execution_count": 8,
   "metadata": {},
   "outputs": [
    {
     "name": "stdout",
     "output_type": "stream",
     "text": [
      "True\n",
      "False\n",
      "True\n"
     ]
    }
   ],
   "source": [
    "print('ABC'.isupper())\n",
    "print('aABC'.isupper())\n",
    "print('1AB#C'.isupper())"
   ]
  },
  {
   "cell_type": "code",
   "execution_count": 9,
   "metadata": {},
   "outputs": [
    {
     "name": "stdout",
     "output_type": "stream",
     "text": [
      "ab\t c  d\n"
     ]
    }
   ],
   "source": [
    "# White space characters: ' ','\\t','\\n'\n",
    "s = '  ab\\t c  d \\n '\n",
    "print(s.strip())"
   ]
  },
  {
   "cell_type": "code",
   "execution_count": 13,
   "metadata": {},
   "outputs": [
    {
     "name": "stdout",
     "output_type": "stream",
     "text": [
      "'  ab\\t c  d \\n '\n",
      "\n",
      "''\n",
      "10\n",
      "'10'\n",
      "[10, 20]\n"
     ]
    }
   ],
   "source": [
    "print(repr(s))\n",
    "print('')\n",
    "print(repr(''))\n",
    "print('10')\n",
    "print(repr('10'))\n",
    "print(repr([10,20]))"
   ]
  },
  {
   "cell_type": "code",
   "execution_count": 15,
   "metadata": {},
   "outputs": [
    {
     "name": "stdout",
     "output_type": "stream",
     "text": [
      "True\n",
      "False\n"
     ]
    }
   ],
   "source": [
    "# in: membership check: work with sequences\n",
    "print('ab' in '12abcd')\n",
    "print('Ab' in '12abcd')"
   ]
  },
  {
   "cell_type": "code",
   "execution_count": 20,
   "metadata": {},
   "outputs": [
    {
     "name": "stdout",
     "output_type": "stream",
     "text": [
      "2\n",
      "1\n",
      "0\n",
      "1\n",
      "2\n"
     ]
    }
   ],
   "source": [
    "s = 'ab abc a b'\n",
    "#    0123456789\n",
    "\n",
    "print(s.count('ab'))\n",
    "print(s.count('ab',3))\n",
    "print(s.count('ab',4))\n",
    "print(s.count('ab',0,4))\n",
    "print(s.count('ab',0,5))"
   ]
  },
  {
   "cell_type": "code",
   "execution_count": 22,
   "metadata": {},
   "outputs": [
    {
     "name": "stdout",
     "output_type": "stream",
     "text": [
      "0\n",
      "3\n",
      "-1\n",
      "0\n",
      "0\n"
     ]
    }
   ],
   "source": [
    "s = 'ab abc a b'\n",
    "#    0123456789\n",
    "\n",
    "print(s.find('ab'))\n",
    "print(s.find('ab',2))\n",
    "print(s.find('ab',4))\n",
    "print(s.find('ab',0,4))\n",
    "print(s.find('ab',0,5))"
   ]
  },
  {
   "cell_type": "code",
   "execution_count": 26,
   "metadata": {},
   "outputs": [
    {
     "name": "stdout",
     "output_type": "stream",
     "text": [
      "ab abc a b\n",
      "AAb AAbc AA b\n",
      "ab abc a b\n",
      "AAb AAbc a b\n"
     ]
    }
   ],
   "source": [
    "s = 'ab abc a b'\n",
    "#    0123456789\n",
    "\n",
    "r = s.replace('a','AA')\n",
    "print(s)\n",
    "print(r)\n",
    "\n",
    "r = s.replace('a','AA',2)\n",
    "print(s)\n",
    "print(r)"
   ]
  }
 ],
 "metadata": {
  "kernelspec": {
   "display_name": "Python 3",
   "language": "python",
   "name": "python3"
  },
  "language_info": {
   "codemirror_mode": {
    "name": "ipython",
    "version": 3
   },
   "file_extension": ".py",
   "mimetype": "text/x-python",
   "name": "python",
   "nbconvert_exporter": "python",
   "pygments_lexer": "ipython3",
   "version": "3.7.3"
  }
 },
 "nbformat": 4,
 "nbformat_minor": 2
}
