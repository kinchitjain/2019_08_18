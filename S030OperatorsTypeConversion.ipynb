{
 "cells": [
  {
   "cell_type": "code",
   "execution_count": 5,
   "metadata": {},
   "outputs": [
    {
     "name": "stdout",
     "output_type": "stream",
     "text": [
      "3\n",
      "-1\n",
      "2\n",
      "1.5\n",
      "1\n",
      "1\n",
      "3\n",
      "0\n",
      "\n",
      "1024\n"
     ]
    }
   ],
   "source": [
    "print(1+2)\n",
    "print(1-2)\n",
    "print(1*2)\n",
    "print(3/2) # quotient\n",
    "print(3//2) # int division\n",
    "print(3%2) # remainder\n",
    "print(3%4) # remainder\n",
    "print(4%4) # remainder\n",
    "\n",
    "print()\n",
    "print(4**5)"
   ]
  },
  {
   "cell_type": "code",
   "execution_count": 14,
   "metadata": {},
   "outputs": [
    {
     "name": "stdout",
     "output_type": "stream",
     "text": [
      "3.3333333333333335\n",
      "3.0\n"
     ]
    }
   ],
   "source": [
    "print(10.0/3)\n",
    "print(10.0//3)"
   ]
  },
  {
   "cell_type": "code",
   "execution_count": 21,
   "metadata": {},
   "outputs": [
    {
     "name": "stdout",
     "output_type": "stream",
     "text": [
      "abcd\n",
      "abcabcabcabc\n",
      "abcdabcdabcdabcd\n"
     ]
    }
   ],
   "source": [
    "s = 'ab' + 'cd'\n",
    "print(s)\n",
    "print('abc' * 4)\n",
    "#print('abc' * 'abcccc')\n",
    "print(s*4)"
   ]
  },
  {
   "cell_type": "code",
   "execution_count": 9,
   "metadata": {},
   "outputs": [
    {
     "name": "stdout",
     "output_type": "stream",
     "text": [
      "this is soem input\n",
      "Input :  this is soem input\n"
     ]
    }
   ],
   "source": [
    "r = input()\n",
    "print('Input : ', r)"
   ]
  },
  {
   "cell_type": "code",
   "execution_count": 8,
   "metadata": {},
   "outputs": [
    {
     "name": "stdout",
     "output_type": "stream",
     "text": [
      "abc\n"
     ]
    }
   ],
   "source": [
    "print('abc')"
   ]
  },
  {
   "cell_type": "code",
   "execution_count": 12,
   "metadata": {},
   "outputs": [
    {
     "name": "stdout",
     "output_type": "stream",
     "text": [
      "Enter something: 1000\n",
      "1000 <class 'str'>\n"
     ]
    }
   ],
   "source": [
    "r = input('Enter something: ')\n",
    "print(r, type(r))"
   ]
  },
  {
   "cell_type": "code",
   "execution_count": 31,
   "metadata": {},
   "outputs": [
    {
     "name": "stdout",
     "output_type": "stream",
     "text": [
      "Enter a number: 10\n",
      "Enter a number: 20\n",
      "10 20\n",
      "30\n",
      "1020\n"
     ]
    }
   ],
   "source": [
    "n1 = input('Enter a number: ')\n",
    "n2 = int(input('Enter a number: '))\n",
    "n1 = int(n1)\n",
    "print(n1, n2)\n",
    "print(n1+n2)\n",
    "print('10' + '20')"
   ]
  },
  {
   "cell_type": "code",
   "execution_count": 27,
   "metadata": {},
   "outputs": [
    {
     "name": "stdout",
     "output_type": "stream",
     "text": [
      "0\n",
      "0.0\n",
      "False\n",
      " 0 \n"
     ]
    }
   ],
   "source": [
    "print(int())\n",
    "print(float())\n",
    "print(bool())\n",
    "print(str(), len(str()), '')"
   ]
  },
  {
   "cell_type": "code",
   "execution_count": 30,
   "metadata": {},
   "outputs": [
    {
     "name": "stdout",
     "output_type": "stream",
     "text": [
      "10\n",
      "10\n",
      "10 10\n",
      "<class 'str'> <class 'int'>\n"
     ]
    }
   ],
   "source": [
    "print( int(10) )\n",
    "print( int(10.6) )\n",
    "s = '10'\n",
    "i = int(s)\n",
    "print(s,i)\n",
    "print(type(s), type(i))"
   ]
  },
  {
   "cell_type": "code",
   "execution_count": null,
   "metadata": {},
   "outputs": [],
   "source": [
    "# WAP to input x and y and print x to the power y"
   ]
  },
  {
   "cell_type": "code",
   "execution_count": 37,
   "metadata": {},
   "outputs": [
    {
     "name": "stdout",
     "output_type": "stream",
     "text": [
      "True\n",
      "False\n",
      "True\n",
      "True\n",
      "False\n",
      "False\n",
      "True\n"
     ]
    }
   ],
   "source": [
    "print(bool(True))\n",
    "print(bool(0))\n",
    "print(bool(10))\n",
    "print(bool(-10))\n",
    "print(bool(0.0))\n",
    "print(bool(''))\n",
    "print(bool('fsd'))"
   ]
  },
  {
   "cell_type": "code",
   "execution_count": 39,
   "metadata": {},
   "outputs": [
    {
     "name": "stdout",
     "output_type": "stream",
     "text": [
      "1\n",
      "0\n"
     ]
    }
   ],
   "source": [
    "print(int(True));print(int(False))"
   ]
  }
 ],
 "metadata": {
  "kernelspec": {
   "display_name": "Python 3",
   "language": "python",
   "name": "python3"
  },
  "language_info": {
   "codemirror_mode": {
    "name": "ipython",
    "version": 3
   },
   "file_extension": ".py",
   "mimetype": "text/x-python",
   "name": "python",
   "nbconvert_exporter": "python",
   "pygments_lexer": "ipython3",
   "version": "3.7.3"
  }
 },
 "nbformat": 4,
 "nbformat_minor": 2
}
