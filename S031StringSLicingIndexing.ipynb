{
 "cells": [
  {
   "cell_type": "markdown",
   "metadata": {},
   "source": [
    "### Strings\n",
    "- immutable\n",
    "- sequence"
   ]
  },
  {
   "cell_type": "code",
   "execution_count": 2,
   "metadata": {},
   "outputs": [
    {
     "name": "stdout",
     "output_type": "stream",
     "text": [
      "abcd pqr\n",
      "abcd pqr\n",
      "abcd pqr\n",
      "abcd pqr\n"
     ]
    }
   ],
   "source": [
    "# escape sequence\n",
    "print('abcd pqr')\n",
    "print(\"abcd pqr\")\n",
    "print(\"\"\"abcd pqr\"\"\")\n",
    "print('''abcd pqr''')"
   ]
  },
  {
   "cell_type": "code",
   "execution_count": 6,
   "metadata": {},
   "outputs": [
    {
     "name": "stdout",
     "output_type": "stream",
     "text": [
      "b\n",
      "a\tb\n"
     ]
    }
   ],
   "source": [
    "print('b\\na\\tb')\n",
    "#\\n -> new line\n",
    "#\\t -> tab\n"
   ]
  },
  {
   "cell_type": "code",
   "execution_count": 10,
   "metadata": {},
   "outputs": [
    {
     "name": "stdout",
     "output_type": "stream",
     "text": [
      "ab'cd\n",
      "ab\"cd\n",
      "ab\"cd\n"
     ]
    }
   ],
   "source": [
    "print( 'ab\\'cd')\n",
    "print( 'ab\\\"cd')\n",
    "print( 'ab\"cd')"
   ]
  },
  {
   "cell_type": "code",
   "execution_count": 14,
   "metadata": {},
   "outputs": [
    {
     "name": "stdout",
     "output_type": "stream",
     "text": [
      "6\n",
      "6\n",
      "7\n"
     ]
    }
   ],
   "source": [
    "print(len('abc cd'))\n",
    "print(len('abc\\tcd'))\n",
    "print(len('abc\\t\\ncd'))"
   ]
  },
  {
   "cell_type": "code",
   "execution_count": 23,
   "metadata": {},
   "outputs": [
    {
     "name": "stdout",
     "output_type": "stream",
     "text": [
      "97\n",
      "35\n",
      "98\n",
      "65\n",
      "9\n",
      "49\n",
      "True\n"
     ]
    }
   ],
   "source": [
    "print(ord('a'))\n",
    "print(ord('#'))\n",
    "print(ord('b'))\n",
    "print(ord('A'))\n",
    "print(ord('\\t'))\n",
    "print(ord('1'))\n",
    "print('a' > 'A')"
   ]
  },
  {
   "cell_type": "code",
   "execution_count": 19,
   "metadata": {},
   "outputs": [
    {
     "name": "stdout",
     "output_type": "stream",
     "text": [
      "c\n"
     ]
    }
   ],
   "source": [
    "print(chr(99))"
   ]
  },
  {
   "cell_type": "markdown",
   "metadata": {},
   "source": [
    "### Slicing and indexing"
   ]
  },
  {
   "cell_type": "code",
   "execution_count": 29,
   "metadata": {},
   "outputs": [
    {
     "name": "stdout",
     "output_type": "stream",
     "text": [
      "a\n",
      "c\n",
      "d\n"
     ]
    },
    {
     "ename": "IndexError",
     "evalue": "string index out of range",
     "output_type": "error",
     "traceback": [
      "\u001b[1;31m---------------------------------------------------------------------------\u001b[0m",
      "\u001b[1;31mIndexError\u001b[0m                                Traceback (most recent call last)",
      "\u001b[1;32m<ipython-input-29-ac25f661ff8a>\u001b[0m in \u001b[0;36m<module>\u001b[1;34m\u001b[0m\n\u001b[0;32m      4\u001b[0m \u001b[0mprint\u001b[0m\u001b[1;33m(\u001b[0m \u001b[0ms\u001b[0m\u001b[1;33m[\u001b[0m\u001b[1;36m2\u001b[0m\u001b[1;33m]\u001b[0m \u001b[1;33m)\u001b[0m\u001b[1;33m\u001b[0m\u001b[1;33m\u001b[0m\u001b[0m\n\u001b[0;32m      5\u001b[0m \u001b[0mprint\u001b[0m\u001b[1;33m(\u001b[0m \u001b[0ms\u001b[0m\u001b[1;33m[\u001b[0m\u001b[1;36m3\u001b[0m\u001b[1;33m]\u001b[0m \u001b[1;33m)\u001b[0m\u001b[1;33m\u001b[0m\u001b[1;33m\u001b[0m\u001b[0m\n\u001b[1;32m----> 6\u001b[1;33m \u001b[0mprint\u001b[0m\u001b[1;33m(\u001b[0m \u001b[0ms\u001b[0m\u001b[1;33m[\u001b[0m\u001b[1;36m4\u001b[0m\u001b[1;33m]\u001b[0m \u001b[1;33m)\u001b[0m\u001b[1;33m\u001b[0m\u001b[1;33m\u001b[0m\u001b[0m\n\u001b[0m",
      "\u001b[1;31mIndexError\u001b[0m: string index out of range"
     ]
    }
   ],
   "source": [
    "s = 'abcd'\n",
    "#    0123\n",
    "print( s[0] )\n",
    "print( s[2] )\n",
    "print( s[3] )\n",
    "print( s[4] ) # index error."
   ]
  },
  {
   "cell_type": "code",
   "execution_count": null,
   "metadata": {},
   "outputs": [],
   "source": [
    "# WAP to input a string and print first and last character of string"
   ]
  },
  {
   "cell_type": "code",
   "execution_count": 30,
   "metadata": {},
   "outputs": [
    {
     "name": "stdout",
     "output_type": "stream",
     "text": [
      "d\n",
      "c\n",
      "a\n"
     ]
    }
   ],
   "source": [
    "s = 'abcd'\n",
    "#    4321\n",
    "print( s[-1] )\n",
    "print( s[-2] )\n",
    "print( s[-4] )"
   ]
  },
  {
   "cell_type": "code",
   "execution_count": 37,
   "metadata": {},
   "outputs": [
    {
     "name": "stdout",
     "output_type": "stream",
     "text": [
      "bcd\n",
      "bcdefgh\n",
      "abcd\n",
      "\n",
      "bdf\n",
      "bcdef\n",
      "\n",
      "gfedc\n"
     ]
    }
   ],
   "source": [
    "s = 'abcdefgh'\n",
    "#    01234567\n",
    "#    87654321\n",
    "\n",
    "print( s[1:4] )\n",
    "print( s[1:] )\n",
    "print( s[:4] )\n",
    "\n",
    "print()\n",
    "print( s[1:6:2] )\n",
    "print( s[1:6:1] )\n",
    "print( s[1:6:-1] )\n",
    "print( s[6:1:-1] )"
   ]
  },
  {
   "cell_type": "code",
   "execution_count": 42,
   "metadata": {},
   "outputs": [
    {
     "name": "stdout",
     "output_type": "stream",
     "text": [
      "bdfh\n",
      "ac\n",
      "aceg\n",
      "hgfedcba\n",
      "hgf\n"
     ]
    }
   ],
   "source": [
    "s = 'abcdefgh'\n",
    "#    01234567 +\n",
    "#    87654321 -\n",
    "\n",
    "print( s[1::2] )\n",
    "print( s[:4:2] )\n",
    "print( s[::2] )\n",
    "print( s[::-1] ) # reverse a string\n",
    "print(s[-1:4:-1])\n"
   ]
  },
  {
   "cell_type": "code",
   "execution_count": 45,
   "metadata": {},
   "outputs": [
    {
     "name": "stdout",
     "output_type": "stream",
     "text": [
      "gc\n",
      "gc\n"
     ]
    }
   ],
   "source": [
    "s = 'abcdefgh'\n",
    "#    01234567 +\n",
    "#    87654321 -\n",
    "s1 = s[::2] # aceg  [start: end: step]\n",
    "s2 = s1[::-2]\n",
    "print(s2)\n",
    "print(s[::2][::-2])"
   ]
  },
  {
   "cell_type": "code",
   "execution_count": 48,
   "metadata": {},
   "outputs": [
    {
     "ename": "SyntaxError",
     "evalue": "EOL while scanning string literal (<ipython-input-48-de4e105468e0>, line 1)",
     "output_type": "error",
     "traceback": [
      "\u001b[1;36m  File \u001b[1;32m\"<ipython-input-48-de4e105468e0>\"\u001b[1;36m, line \u001b[1;32m1\u001b[0m\n\u001b[1;33m    s = 'a\\nb\\nc\\n\u001b[0m\n\u001b[1;37m                  ^\u001b[0m\n\u001b[1;31mSyntaxError\u001b[0m\u001b[1;31m:\u001b[0m EOL while scanning string literal\n"
     ]
    }
   ],
   "source": [
    "s = 'a\\nb\\nc\\nd'\n",
    "print(s)"
   ]
  },
  {
   "cell_type": "code",
   "execution_count": 50,
   "metadata": {},
   "outputs": [
    {
     "name": "stdout",
     "output_type": "stream",
     "text": [
      "a\n",
      "b b bbbb\n",
      "c\n",
      "d\n"
     ]
    }
   ],
   "source": [
    "# multiline string\n",
    "s = \"\"\"a\n",
    "b b bbbb\n",
    "c\n",
    "d\"\"\"\n",
    "print(s)"
   ]
  },
  {
   "cell_type": "code",
   "execution_count": 57,
   "metadata": {},
   "outputs": [
    {
     "name": "stdout",
     "output_type": "stream",
     "text": [
      "200\n"
     ]
    }
   ],
   "source": [
    "# split one big line of code into multiple lines\n",
    "x = 10 + 20 + \\\n",
    "    30 + 40 + \\\n",
    "    100\n",
    "print(x)"
   ]
  },
  {
   "cell_type": "code",
   "execution_count": 53,
   "metadata": {},
   "outputs": [
    {
     "name": "stdout",
     "output_type": "stream",
     "text": [
      "abcd\n"
     ]
    }
   ],
   "source": [
    "# two strings side by side are automatically concatenated\n",
    "s = 'ab''cd'\n",
    "print(s)"
   ]
  },
  {
   "cell_type": "code",
   "execution_count": 56,
   "metadata": {},
   "outputs": [
    {
     "name": "stdout",
     "output_type": "stream",
     "text": [
      "this is a very big string and can span till end of the cell boundary. we can split tese kind of things in python using a special continuation character\n"
     ]
    }
   ],
   "source": [
    "s = 'this is a very big string and can span till end of the cell boundary.'\\\n",
    "' we can split tese kind of things in python using a special continuation character'\n",
    "print(s)"
   ]
  },
  {
   "cell_type": "code",
   "execution_count": null,
   "metadata": {},
   "outputs": [],
   "source": []
  },
  {
   "cell_type": "code",
   "execution_count": null,
   "metadata": {},
   "outputs": [],
   "source": []
  },
  {
   "cell_type": "code",
   "execution_count": null,
   "metadata": {},
   "outputs": [],
   "source": []
  },
  {
   "cell_type": "code",
   "execution_count": null,
   "metadata": {},
   "outputs": [],
   "source": []
  },
  {
   "cell_type": "code",
   "execution_count": null,
   "metadata": {},
   "outputs": [],
   "source": []
  }
 ],
 "metadata": {
  "kernelspec": {
   "display_name": "Python 3",
   "language": "python",
   "name": "python3"
  },
  "language_info": {
   "codemirror_mode": {
    "name": "ipython",
    "version": 3
   },
   "file_extension": ".py",
   "mimetype": "text/x-python",
   "name": "python",
   "nbconvert_exporter": "python",
   "pygments_lexer": "ipython3",
   "version": "3.7.3"
  }
 },
 "nbformat": 4,
 "nbformat_minor": 2
}
